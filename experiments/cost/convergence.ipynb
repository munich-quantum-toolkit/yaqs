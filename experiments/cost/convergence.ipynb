{
 "cells": [
  {
   "cell_type": "code",
   "execution_count": 1,
   "id": "bb29c39d",
   "metadata": {},
   "outputs": [],
   "source": [
    "from mqt.yaqs.core.data_structures.networks import MPS, MPO\n",
    "from mqt.yaqs import simulator\n",
    "from mqt.yaqs.core.data_structures.simulation_parameters import AnalogSimParams, Observable\n",
    "from mqt.yaqs.core.libraries.gate_library import X, Z, RuntimeCost\n",
    "from mqt.yaqs.core.data_structures.noise_model import NoiseModel\n",
    "\n",
    "import matplotlib.pyplot as plt\n",
    "import numpy as np\n",
    "import pickle"
   ]
  },
  {
   "cell_type": "code",
   "execution_count": null,
   "id": "7f62b4d6",
   "metadata": {},
   "outputs": [],
   "source": [
    "def tdvp_simulator(H_0, noise_model, state=None):\n",
    "    L = H_0.length\n",
    "\n",
    "    # Ising\n",
    "    state = MPS(length=L)\n",
    "\n",
    "    # Heisenberg\n",
    "    # elapsed_time = 2\n",
    "    # state = MPS(length=L, state=\"Neel\")\n",
    "\n",
    "    measurements = [Observable(Z(), [L//2])] + [Observable(\"max_bond\")] \n",
    "    sim_params = AnalogSimParams(observables=measurements,\n",
    "                                elapsed_time=5,\n",
    "                                dt=0.1,\n",
    "                                num_traj=1000,\n",
    "                                threshold=1e-3,\n",
    "                                trunc_mode=\"relative\",\n",
    "                                sample_timesteps=True)\n",
    "\n",
    "    simulator.run(state, H_0, sim_params, noise_model=noise_model)\n",
    "    return sim_params.observables"
   ]
  },
  {
   "cell_type": "code",
   "execution_count": null,
   "id": "6c90dbbb",
   "metadata": {},
   "outputs": [
    {
     "name": "stdout",
     "output_type": "stream",
     "text": [
      "8\n"
     ]
    },
    {
     "name": "stderr",
     "output_type": "stream",
     "text": [
      "Running trajectories:   0%|                           | 0/10000 [00:00<?, ?it/s]"
     ]
    },
    {
     "name": "stderr",
     "output_type": "stream",
     "text": [
      "Running trajectories:  43%|██████▊         | 4260/10000 [11:32<24:35,  3.89it/s]"
     ]
    }
   ],
   "source": [
    "L_list = [8, 16, 32]\n",
    "for L in L_list:\n",
    "    print(L)\n",
    "    J = 1\n",
    "    h = 1\n",
    "    H_0 = MPO()\n",
    "    H_0.init_ising(L, J, h)\n",
    "\n",
    "    gamma = 10\n",
    "    results = []\n",
    "    # Define the noise model\n",
    "    noise_model = NoiseModel([\n",
    "        {\"name\": name, \"sites\": [i], \"strength\": gamma} for i in range(L) for name in [\"pauli_z\"]\n",
    "        ])\n",
    "    # noise_model = NoiseModel([\n",
    "    #     {\"name\": name, \"sites\": [i], \"strength\": gamma} for i in range(L) for name in [\"measure_0\", \"measure_1\"]\n",
    "    # ])\n",
    "    cost = tdvp_simulator(H_0, noise_model)\n",
    "    results.append(cost)\n",
    "\n",
    "    filename = f\"pauli_convergence_{L}.pickle\"\n",
    "    with open(filename, 'wb') as handle:\n",
    "        pickle.dump(results, handle)"
   ]
  }
 ],
 "metadata": {
  "kernelspec": {
   "display_name": "env",
   "language": "python",
   "name": "python3"
  },
  "language_info": {
   "codemirror_mode": {
    "name": "ipython",
    "version": 3
   },
   "file_extension": ".py",
   "mimetype": "text/x-python",
   "name": "python",
   "nbconvert_exporter": "python",
   "pygments_lexer": "ipython3",
   "version": "3.12.3"
  }
 },
 "nbformat": 4,
 "nbformat_minor": 5
}
