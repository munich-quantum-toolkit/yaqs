{
 "cells": [
  {
   "cell_type": "code",
   "execution_count": 1,
   "id": "72e0598d",
   "metadata": {},
   "outputs": [],
   "source": [
    "from mqt.yaqs.core.data_structures.networks import MPS, MPO\n",
    "from mqt.yaqs import simulator\n",
    "from mqt.yaqs.core.data_structures.simulation_parameters import AnalogSimParams, Observable\n",
    "from mqt.yaqs.core.libraries.gate_library import X, Z, RuntimeCost\n",
    "from mqt.yaqs.core.data_structures.noise_model import NoiseModel\n",
    "\n",
    "import matplotlib.pyplot as plt\n",
    "import numpy as np\n",
    "import pickle"
   ]
  },
  {
   "cell_type": "code",
   "execution_count": 2,
   "id": "db617c9f",
   "metadata": {},
   "outputs": [],
   "source": [
    "def tdvp_simulator(H_0, noise_model, state=None):\n",
    "    L = H_0.length\n",
    "    sample_timesteps = True\n",
    "    num_traj = 10\n",
    "    max_bond_dim = 2**L\n",
    "    min_bond_dim = 2\n",
    "    threshold = 1e-3\n",
    "    order = 1\n",
    "    dt = 0.1\n",
    "\n",
    "    # Ising\n",
    "    elapsed_time = 5\n",
    "    state = MPS(length=L)\n",
    "\n",
    "    # Heisenberg\n",
    "    # elapsed_time = 2\n",
    "    # state = MPS(length=L, state=\"Neel\")\n",
    "\n",
    "    measurements = [Observable(\"entropy\", [L//2, L//2+1])] + [Observable(\"schmidt_spectrum\", [L//2, L//2+1])] + [Observable(\"max_bond\")]\n",
    "    sim_params = AnalogSimParams(measurements, elapsed_time, dt, num_traj, max_bond_dim, min_bond_dim, threshold, order, sample_timesteps=sample_timesteps)\n",
    "    simulator.run(state, H_0, sim_params, noise_model=noise_model)\n",
    "    print(\"Entropy\", sim_params.observables[0].results[-1])\n",
    "    print(\"Max Bond\", sim_params.observables[-1].results[-1])\n",
    "    return sim_params.observables"
   ]
  },
  {
   "cell_type": "code",
   "execution_count": null,
   "id": "3809d24f",
   "metadata": {},
   "outputs": [
    {
     "name": "stdout",
     "output_type": "stream",
     "text": [
      "8\n",
      "1 of 30\n"
     ]
    },
    {
     "name": "stderr",
     "output_type": "stream",
     "text": [
      "Running trajectories: 100%|█████████████████████| 10/10 [00:01<00:00,  5.96it/s]\n"
     ]
    },
    {
     "name": "stdout",
     "output_type": "stream",
     "text": [
      "Entropy 2.0456468088577116\n",
      "Max Bond 14.0\n",
      "2 of 30\n"
     ]
    },
    {
     "name": "stderr",
     "output_type": "stream",
     "text": [
      "Running trajectories: 100%|█████████████████████| 10/10 [00:01<00:00,  6.05it/s]\n"
     ]
    },
    {
     "name": "stdout",
     "output_type": "stream",
     "text": [
      "Entropy 2.051366514052959\n",
      "Max Bond 14.3\n",
      "3 of 30\n"
     ]
    },
    {
     "name": "stderr",
     "output_type": "stream",
     "text": [
      "Running trajectories: 100%|█████████████████████| 10/10 [00:01<00:00,  6.09it/s]\n"
     ]
    },
    {
     "name": "stdout",
     "output_type": "stream",
     "text": [
      "Entropy 2.046562324009896\n",
      "Max Bond 14.0\n",
      "4 of 30\n"
     ]
    },
    {
     "name": "stderr",
     "output_type": "stream",
     "text": [
      "Running trajectories: 100%|█████████████████████| 10/10 [00:01<00:00,  6.11it/s]\n"
     ]
    },
    {
     "name": "stdout",
     "output_type": "stream",
     "text": [
      "Entropy 2.0547003392762138\n",
      "Max Bond 14.5\n",
      "5 of 30\n"
     ]
    },
    {
     "name": "stderr",
     "output_type": "stream",
     "text": [
      "Running trajectories: 100%|█████████████████████| 10/10 [00:01<00:00,  6.02it/s]\n"
     ]
    },
    {
     "name": "stdout",
     "output_type": "stream",
     "text": [
      "Entropy 2.0505839166579602\n",
      "Max Bond 14.2\n",
      "6 of 30\n"
     ]
    },
    {
     "name": "stderr",
     "output_type": "stream",
     "text": [
      "Running trajectories: 100%|█████████████████████| 10/10 [00:01<00:00,  6.08it/s]\n"
     ]
    },
    {
     "name": "stdout",
     "output_type": "stream",
     "text": [
      "Entropy 2.0489170667249144\n",
      "Max Bond 14.2\n",
      "7 of 30\n"
     ]
    },
    {
     "name": "stderr",
     "output_type": "stream",
     "text": [
      "Running trajectories: 100%|█████████████████████| 10/10 [00:01<00:00,  6.02it/s]\n"
     ]
    },
    {
     "name": "stdout",
     "output_type": "stream",
     "text": [
      "Entropy 2.051415252406338\n",
      "Max Bond 14.6\n",
      "8 of 30\n"
     ]
    },
    {
     "name": "stderr",
     "output_type": "stream",
     "text": [
      "Running trajectories: 100%|█████████████████████| 10/10 [00:01<00:00,  6.09it/s]\n"
     ]
    },
    {
     "name": "stdout",
     "output_type": "stream",
     "text": [
      "Entropy 2.0509930753363212\n",
      "Max Bond 14.5\n",
      "9 of 30\n"
     ]
    },
    {
     "name": "stderr",
     "output_type": "stream",
     "text": [
      "Running trajectories: 100%|█████████████████████| 10/10 [00:01<00:00,  6.02it/s]\n"
     ]
    },
    {
     "name": "stdout",
     "output_type": "stream",
     "text": [
      "Entropy 2.061243517809221\n",
      "Max Bond 15.0\n",
      "10 of 30\n"
     ]
    },
    {
     "name": "stderr",
     "output_type": "stream",
     "text": [
      "Running trajectories: 100%|█████████████████████| 10/10 [00:01<00:00,  6.04it/s]\n"
     ]
    },
    {
     "name": "stdout",
     "output_type": "stream",
     "text": [
      "Entropy 2.0695512623703034\n",
      "Max Bond 15.4\n",
      "11 of 30\n"
     ]
    },
    {
     "name": "stderr",
     "output_type": "stream",
     "text": [
      "Running trajectories:   0%|                              | 0/10 [00:00<?, ?it/s]"
     ]
    }
   ],
   "source": [
    "L_list = [16, 32, 64]\n",
    "for L in L_list:\n",
    "    print(L)\n",
    "    J = 1\n",
    "    h = 1\n",
    "    H_0 = MPO()\n",
    "    H_0.init_ising(L, J, h)\n",
    "    # H_0.init_heisenberg(L, J, J, J, h)\n",
    "\n",
    "    gammas = np.logspace(-3, 2, 30)\n",
    "    results = []\n",
    "    for j, gamma in enumerate(gammas):\n",
    "        print(j+1, \"of\", len(gammas))\n",
    "        # Define the noise model\n",
    "        noise_model = NoiseModel([\n",
    "            {\"name\": name, \"sites\": [i], \"strength\": gamma} for i in range(L) for name in [\"pauli_z\", \"pauli_x\", \"pauli_y\"]\n",
    "            ])\n",
    "\n",
    "        cost = tdvp_simulator(H_0, noise_model)\n",
    "        results.append(cost)\n",
    "\n",
    "    filename = f\"cost_{L}.pickle\"\n",
    "    with open(filename, 'wb') as handle:\n",
    "        pickle.dump(results, handle)"
   ]
  },
  {
   "cell_type": "markdown",
   "id": "76e17c83",
   "metadata": {},
   "source": []
  }
 ],
 "metadata": {
  "kernelspec": {
   "display_name": "env",
   "language": "python",
   "name": "python3"
  },
  "language_info": {
   "codemirror_mode": {
    "name": "ipython",
    "version": 3
   },
   "file_extension": ".py",
   "mimetype": "text/x-python",
   "name": "python",
   "nbconvert_exporter": "python",
   "pygments_lexer": "ipython3",
   "version": "3.12.3"
  }
 },
 "nbformat": 4,
 "nbformat_minor": 5
}
