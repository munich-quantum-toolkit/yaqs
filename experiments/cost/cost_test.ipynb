{
 "cells": [
  {
   "cell_type": "code",
   "execution_count": 1,
   "id": "72e0598d",
   "metadata": {},
   "outputs": [],
   "source": [
    "from mqt.yaqs.core.data_structures.networks import MPS, MPO\n",
    "from mqt.yaqs import simulator\n",
    "from mqt.yaqs.core.data_structures.simulation_parameters import AnalogSimParams, Observable\n",
    "from mqt.yaqs.core.libraries.gate_library import X, Z, RuntimeCost\n",
    "from mqt.yaqs.core.data_structures.noise_model import NoiseModel\n",
    "\n",
    "import matplotlib.pyplot as plt\n",
    "import numpy as np\n",
    "import pickle"
   ]
  },
  {
   "cell_type": "code",
   "execution_count": 2,
   "id": "db617c9f",
   "metadata": {},
   "outputs": [],
   "source": [
    "def tdvp_simulator(H_0, noise_model, state=None):\n",
    "    L = H_0.length\n",
    "\n",
    "    # Ising\n",
    "    state = MPS(length=L)\n",
    "\n",
    "    # Heisenberg\n",
    "    # elapsed_time = 2\n",
    "    # state = MPS(length=L, state=\"Neel\")\n",
    "\n",
    "    measurements = [Observable(Z(), [0])] + [Observable(\"entropy\", [L//2, L//2+1])] + [Observable(\"schmidt_spectrum\", [L//2, L//2+1])] + [Observable(\"max_bond\")]\n",
    "    sim_params = AnalogSimParams(observables=measurements,\n",
    "                                elapsed_time=5,\n",
    "                                dt=0.1,\n",
    "                                num_traj=10,\n",
    "                                threshold=1e-3,\n",
    "                                trunc_mode=\"relative\",\n",
    "                                sample_timesteps=True)\n",
    "\n",
    "    simulator.run(state, H_0, sim_params, noise_model=noise_model)\n",
    "    print(\"Obs Exp Val\", sim_params.observables[0].results[-1])\n",
    "    print(\"Entropy\", sim_params.observables[1].results[-1])\n",
    "    print(\"Max Bond\", sim_params.observables[3].results[-1])\n",
    "    return sim_params.observables[1::]"
   ]
  },
  {
   "cell_type": "code",
   "execution_count": null,
   "id": "3809d24f",
   "metadata": {},
   "outputs": [
    {
     "name": "stdout",
     "output_type": "stream",
     "text": [
      "128\n",
      "1 of 30\n"
     ]
    }
   ],
   "source": [
    "L_list = [128]\n",
    "for L in L_list:\n",
    "    print(L)\n",
    "    J = 1\n",
    "    h = 1\n",
    "    H_0 = MPO()\n",
    "    H_0.init_ising(L, J, h)\n",
    "    # H_0.init_heisenberg(L, J, J, J, h)\n",
    "\n",
    "    gammas = np.logspace(-3, 2, 30)\n",
    "    results = []\n",
    "    for j, gamma in enumerate(gammas):\n",
    "        print(j+1, \"of\", len(gammas))\n",
    "        # Define the noise model\n",
    "        # noise_model = NoiseModel([\n",
    "        #     {\"name\": name, \"sites\": [i], \"strength\": gamma} for i in range(L) for name in [\"pauli_z\", \"pauli_x\", \"pauli_y\"]\n",
    "        #     ])\n",
    "        noise_model = NoiseModel([\n",
    "            {\"name\": name, \"sites\": [i], \"strength\": gamma} for i in range(L) for name in [\"measure_0\", \"measure_1\"]\n",
    "        ])\n",
    "        cost = tdvp_simulator(H_0, noise_model)\n",
    "        results.append(cost)\n",
    "\n",
    "    filename = f\"cost_{L}.pickle\"\n",
    "    with open(filename, 'wb') as handle:\n",
    "        pickle.dump(results, handle)"
   ]
  }
 ],
 "metadata": {
  "kernelspec": {
   "display_name": "env",
   "language": "python",
   "name": "python3"
  },
  "language_info": {
   "codemirror_mode": {
    "name": "ipython",
    "version": 3
   },
   "file_extension": ".py",
   "mimetype": "text/x-python",
   "name": "python",
   "nbconvert_exporter": "python",
   "pygments_lexer": "ipython3",
   "version": "3.12.3"
  }
 },
 "nbformat": 4,
 "nbformat_minor": 5
}
