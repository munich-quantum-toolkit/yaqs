{
 "cells": [
  {
   "cell_type": "code",
   "execution_count": 1,
   "id": "72e0598d",
   "metadata": {},
   "outputs": [],
   "source": [
    "from mqt.yaqs.core.data_structures.networks import MPS, MPO\n",
    "from mqt.yaqs import simulator\n",
    "from mqt.yaqs.core.data_structures.simulation_parameters import AnalogSimParams, Observable\n",
    "from mqt.yaqs.core.libraries.gate_library import X, Z, RuntimeCost\n",
    "from mqt.yaqs.core.data_structures.noise_model import NoiseModel\n",
    "\n",
    "import matplotlib.pyplot as plt\n",
    "import numpy as np\n",
    "import pickle"
   ]
  },
  {
   "cell_type": "code",
   "execution_count": 2,
   "id": "db617c9f",
   "metadata": {},
   "outputs": [],
   "source": [
    "def tdvp_simulator(H_0, noise_model, state=None):\n",
    "    L = H_0.length\n",
    "    sample_timesteps = False\n",
    "    num_traj = 10\n",
    "    max_bond_dim = 2**L\n",
    "    min_bond_dim = 2\n",
    "    threshold = 1e-6\n",
    "    order = 1\n",
    "    dt = 0.1\n",
    "\n",
    "    # Ising\n",
    "    elapsed_time = 5\n",
    "    state = MPS(length=L)\n",
    "\n",
    "    # Heisenberg\n",
    "    # elapsed_time = 2\n",
    "    # state = MPS(length=L, state=\"Neel\")\n",
    "\n",
    "    measurements = [Observable(\"entropy\", [L//2, L//2+1])] + [Observable(\"schmidt_spectrum\", [L//2, L//2+1])] + [Observable(\"max_bond\")]\n",
    "    sim_params = AnalogSimParams(measurements, elapsed_time, dt, num_traj, max_bond_dim, min_bond_dim, threshold, order, sample_timesteps=sample_timesteps)\n",
    "    simulator.run(state, H_0, sim_params, noise_model=noise_model)\n",
    "    print(\"Entropy\", sim_params.observables[0].results[-1])\n",
    "    print(\"Max Bond\", sim_params.observables[-1].results[-1])\n",
    "    return sim_params.observables"
   ]
  },
  {
   "cell_type": "code",
   "execution_count": null,
   "id": "3809d24f",
   "metadata": {},
   "outputs": [
    {
     "name": "stdout",
     "output_type": "stream",
     "text": [
      "16\n",
      "1 of 30\n"
     ]
    },
    {
     "name": "stderr",
     "output_type": "stream",
     "text": [
      "Running trajectories: 100%|█████████████████████| 10/10 [02:47<00:00, 16.74s/it]\n"
     ]
    },
    {
     "name": "stdout",
     "output_type": "stream",
     "text": [
      "Entropy 2.737200588140886\n",
      "Max Bond 212.4\n",
      "2 of 30\n"
     ]
    },
    {
     "name": "stderr",
     "output_type": "stream",
     "text": [
      "Running trajectories: 100%|█████████████████████| 10/10 [02:38<00:00, 15.88s/it]\n"
     ]
    },
    {
     "name": "stdout",
     "output_type": "stream",
     "text": [
      "Entropy 2.7107001668224617\n",
      "Max Bond 205.1\n",
      "3 of 30\n"
     ]
    },
    {
     "name": "stderr",
     "output_type": "stream",
     "text": [
      "Running trajectories: 100%|█████████████████████| 10/10 [02:44<00:00, 16.43s/it]\n"
     ]
    },
    {
     "name": "stdout",
     "output_type": "stream",
     "text": [
      "Entropy 2.7656949066189793\n",
      "Max Bond 210.8\n",
      "4 of 30\n"
     ]
    },
    {
     "name": "stderr",
     "output_type": "stream",
     "text": [
      "Running trajectories: 100%|█████████████████████| 10/10 [02:38<00:00, 15.82s/it]\n"
     ]
    },
    {
     "name": "stdout",
     "output_type": "stream",
     "text": [
      "Entropy 2.708013506508058\n",
      "Max Bond 205.3\n",
      "5 of 30\n"
     ]
    },
    {
     "name": "stderr",
     "output_type": "stream",
     "text": [
      "Running trajectories: 100%|█████████████████████| 10/10 [02:35<00:00, 15.58s/it]\n"
     ]
    },
    {
     "name": "stdout",
     "output_type": "stream",
     "text": [
      "Entropy 2.6952224029753236\n",
      "Max Bond 205.5\n",
      "6 of 30\n"
     ]
    },
    {
     "name": "stderr",
     "output_type": "stream",
     "text": [
      "Running trajectories: 100%|█████████████████████| 10/10 [02:36<00:00, 15.68s/it]\n"
     ]
    },
    {
     "name": "stdout",
     "output_type": "stream",
     "text": [
      "Entropy 2.7756134009394873\n",
      "Max Bond 205.0\n",
      "7 of 30\n"
     ]
    },
    {
     "name": "stderr",
     "output_type": "stream",
     "text": [
      "Running trajectories: 100%|█████████████████████| 10/10 [02:25<00:00, 14.53s/it]\n"
     ]
    },
    {
     "name": "stdout",
     "output_type": "stream",
     "text": [
      "Entropy 2.7102691152883662\n",
      "Max Bond 196.6\n",
      "8 of 30\n"
     ]
    },
    {
     "name": "stderr",
     "output_type": "stream",
     "text": [
      "Running trajectories: 100%|█████████████████████| 10/10 [02:13<00:00, 13.32s/it]\n"
     ]
    },
    {
     "name": "stdout",
     "output_type": "stream",
     "text": [
      "Entropy 2.666515895888099\n",
      "Max Bond 180.7\n",
      "9 of 30\n"
     ]
    },
    {
     "name": "stderr",
     "output_type": "stream",
     "text": [
      "Running trajectories: 100%|█████████████████████| 10/10 [02:13<00:00, 13.31s/it]\n"
     ]
    },
    {
     "name": "stdout",
     "output_type": "stream",
     "text": [
      "Entropy 2.573329338293494\n",
      "Max Bond 176.1\n",
      "10 of 30\n"
     ]
    },
    {
     "name": "stderr",
     "output_type": "stream",
     "text": [
      "Running trajectories: 100%|█████████████████████| 10/10 [02:20<00:00, 14.08s/it]\n"
     ]
    },
    {
     "name": "stdout",
     "output_type": "stream",
     "text": [
      "Entropy 2.4833144343173683\n",
      "Max Bond 169.0\n",
      "11 of 30\n"
     ]
    },
    {
     "name": "stderr",
     "output_type": "stream",
     "text": [
      "Running trajectories: 100%|█████████████████████| 10/10 [02:11<00:00, 13.17s/it]\n"
     ]
    },
    {
     "name": "stdout",
     "output_type": "stream",
     "text": [
      "Entropy 2.450719213984579\n",
      "Max Bond 154.8\n",
      "12 of 30\n"
     ]
    },
    {
     "name": "stderr",
     "output_type": "stream",
     "text": [
      "Running trajectories: 100%|█████████████████████| 10/10 [01:41<00:00, 10.17s/it]\n"
     ]
    },
    {
     "name": "stdout",
     "output_type": "stream",
     "text": [
      "Entropy 2.363696421199362\n",
      "Max Bond 152.9\n",
      "13 of 30\n"
     ]
    },
    {
     "name": "stderr",
     "output_type": "stream",
     "text": [
      "Running trajectories: 100%|█████████████████████| 10/10 [00:56<00:00,  5.68s/it]\n"
     ]
    },
    {
     "name": "stdout",
     "output_type": "stream",
     "text": [
      "Entropy 1.8660097461463576\n",
      "Max Bond 106.5\n",
      "14 of 30\n"
     ]
    },
    {
     "name": "stderr",
     "output_type": "stream",
     "text": [
      "Running trajectories: 100%|█████████████████████| 10/10 [00:45<00:00,  4.59s/it]\n"
     ]
    },
    {
     "name": "stdout",
     "output_type": "stream",
     "text": [
      "Entropy 1.8472440488975241\n",
      "Max Bond 98.7\n",
      "15 of 30\n"
     ]
    },
    {
     "name": "stderr",
     "output_type": "stream",
     "text": [
      "Running trajectories: 100%|█████████████████████| 10/10 [00:32<00:00,  3.24s/it]\n"
     ]
    },
    {
     "name": "stdout",
     "output_type": "stream",
     "text": [
      "Entropy 1.5506311418108079\n",
      "Max Bond 77.9\n",
      "16 of 30\n"
     ]
    },
    {
     "name": "stderr",
     "output_type": "stream",
     "text": [
      "Running trajectories: 100%|█████████████████████| 10/10 [00:26<00:00,  2.70s/it]\n"
     ]
    },
    {
     "name": "stdout",
     "output_type": "stream",
     "text": [
      "Entropy 1.448795246058417\n",
      "Max Bond 74.8\n",
      "17 of 30\n"
     ]
    },
    {
     "name": "stderr",
     "output_type": "stream",
     "text": [
      "Running trajectories: 100%|█████████████████████| 10/10 [00:19<00:00,  2.00s/it]\n"
     ]
    },
    {
     "name": "stdout",
     "output_type": "stream",
     "text": [
      "Entropy 1.4340958605866683\n",
      "Max Bond 65.9\n",
      "18 of 30\n"
     ]
    },
    {
     "name": "stderr",
     "output_type": "stream",
     "text": [
      "Running trajectories: 100%|█████████████████████| 10/10 [00:16<00:00,  1.63s/it]\n"
     ]
    },
    {
     "name": "stdout",
     "output_type": "stream",
     "text": [
      "Entropy 1.2909301677833338\n",
      "Max Bond 60.4\n",
      "19 of 30\n"
     ]
    },
    {
     "name": "stderr",
     "output_type": "stream",
     "text": [
      "Running trajectories: 100%|█████████████████████| 10/10 [00:20<00:00,  2.10s/it]\n"
     ]
    },
    {
     "name": "stdout",
     "output_type": "stream",
     "text": [
      "Entropy 1.4570933760839515\n",
      "Max Bond 64.6\n",
      "20 of 30\n"
     ]
    },
    {
     "name": "stderr",
     "output_type": "stream",
     "text": [
      "Running trajectories: 100%|█████████████████████| 10/10 [00:19<00:00,  1.96s/it]\n"
     ]
    },
    {
     "name": "stdout",
     "output_type": "stream",
     "text": [
      "Entropy 1.3587909340726303\n",
      "Max Bond 60.6\n",
      "21 of 30\n"
     ]
    },
    {
     "name": "stderr",
     "output_type": "stream",
     "text": [
      "Running trajectories: 100%|█████████████████████| 10/10 [00:27<00:00,  2.75s/it]\n"
     ]
    },
    {
     "name": "stdout",
     "output_type": "stream",
     "text": [
      "Entropy 1.375884332230111\n",
      "Max Bond 73.0\n",
      "22 of 30\n"
     ]
    },
    {
     "name": "stderr",
     "output_type": "stream",
     "text": [
      "Running trajectories: 100%|█████████████████████| 10/10 [00:23<00:00,  2.37s/it]\n"
     ]
    },
    {
     "name": "stdout",
     "output_type": "stream",
     "text": [
      "Entropy 1.30906836108873\n",
      "Max Bond 65.0\n",
      "23 of 30\n"
     ]
    },
    {
     "name": "stderr",
     "output_type": "stream",
     "text": [
      "Running trajectories: 100%|█████████████████████| 10/10 [00:21<00:00,  2.14s/it]\n"
     ]
    },
    {
     "name": "stdout",
     "output_type": "stream",
     "text": [
      "Entropy 1.3438728068900745\n",
      "Max Bond 61.6\n",
      "24 of 30\n"
     ]
    },
    {
     "name": "stderr",
     "output_type": "stream",
     "text": [
      "Running trajectories: 100%|█████████████████████| 10/10 [00:20<00:00,  2.06s/it]\n"
     ]
    },
    {
     "name": "stdout",
     "output_type": "stream",
     "text": [
      "Entropy 1.3576156764404792\n",
      "Max Bond 60.4\n",
      "25 of 30\n"
     ]
    },
    {
     "name": "stderr",
     "output_type": "stream",
     "text": [
      "Running trajectories: 100%|█████████████████████| 10/10 [00:16<00:00,  1.67s/it]\n"
     ]
    },
    {
     "name": "stdout",
     "output_type": "stream",
     "text": [
      "Entropy 1.374952509312657\n",
      "Max Bond 59.0\n",
      "26 of 30\n"
     ]
    },
    {
     "name": "stderr",
     "output_type": "stream",
     "text": [
      "Running trajectories: 100%|█████████████████████| 10/10 [00:22<00:00,  2.20s/it]\n"
     ]
    },
    {
     "name": "stdout",
     "output_type": "stream",
     "text": [
      "Entropy 1.4253129030565315\n",
      "Max Bond 70.4\n",
      "27 of 30\n"
     ]
    },
    {
     "name": "stderr",
     "output_type": "stream",
     "text": [
      "Running trajectories: 100%|█████████████████████| 10/10 [00:22<00:00,  2.20s/it]\n"
     ]
    },
    {
     "name": "stdout",
     "output_type": "stream",
     "text": [
      "Entropy 1.28174981611131\n",
      "Max Bond 65.0\n",
      "28 of 30\n"
     ]
    },
    {
     "name": "stderr",
     "output_type": "stream",
     "text": [
      "Running trajectories: 100%|█████████████████████| 10/10 [00:22<00:00,  2.27s/it]\n"
     ]
    },
    {
     "name": "stdout",
     "output_type": "stream",
     "text": [
      "Entropy 1.291158053751945\n",
      "Max Bond 61.2\n",
      "29 of 30\n"
     ]
    },
    {
     "name": "stderr",
     "output_type": "stream",
     "text": [
      "Running trajectories: 100%|█████████████████████| 10/10 [00:20<00:00,  2.02s/it]\n"
     ]
    },
    {
     "name": "stdout",
     "output_type": "stream",
     "text": [
      "Entropy 1.3582471635197177\n",
      "Max Bond 67.2\n",
      "30 of 30\n"
     ]
    },
    {
     "name": "stderr",
     "output_type": "stream",
     "text": [
      "Running trajectories: 100%|█████████████████████| 10/10 [00:19<00:00,  1.98s/it]\n"
     ]
    },
    {
     "name": "stdout",
     "output_type": "stream",
     "text": [
      "Entropy 1.3231826679585088\n",
      "Max Bond 59.5\n",
      "32\n",
      "1 of 30\n"
     ]
    },
    {
     "name": "stderr",
     "output_type": "stream",
     "text": [
      "Running trajectories:   0%|                              | 0/10 [00:00<?, ?it/s]"
     ]
    }
   ],
   "source": [
    "L_list = [16, 32]\n",
    "for L in L_list:\n",
    "    print(L)\n",
    "    J = 1\n",
    "    h = 1\n",
    "    H_0 = MPO()\n",
    "    H_0.init_ising(L, J, h)\n",
    "    # H_0.init_heisenberg(L, J, J, J, h)\n",
    "\n",
    "    gammas = np.logspace(-3, 2, 30)\n",
    "    results = []\n",
    "    for j, gamma in enumerate(gammas):\n",
    "        print(j+1, \"of\", len(gammas))\n",
    "        # Define the noise model\n",
    "        noise_model = NoiseModel([\n",
    "            {\"name\": name, \"sites\": [i], \"strength\": gamma} for i in range(L) for name in [\"dephasing\", \"bitflip\", \"bitphaseflip\"]\n",
    "            ])\n",
    "\n",
    "        cost = tdvp_simulator(H_0, noise_model)\n",
    "        results.append(cost)\n",
    "\n",
    "    filename = f\"schmidt_{L}.pickle\"\n",
    "    with open(filename, 'wb') as handle:\n",
    "        pickle.dump(results, handle)"
   ]
  },
  {
   "cell_type": "markdown",
   "id": "76e17c83",
   "metadata": {},
   "source": []
  }
 ],
 "metadata": {
  "kernelspec": {
   "display_name": "env",
   "language": "python",
   "name": "python3"
  },
  "language_info": {
   "codemirror_mode": {
    "name": "ipython",
    "version": 3
   },
   "file_extension": ".py",
   "mimetype": "text/x-python",
   "name": "python",
   "nbconvert_exporter": "python",
   "pygments_lexer": "ipython3",
   "version": "3.13.1"
  }
 },
 "nbformat": 4,
 "nbformat_minor": 5
}
