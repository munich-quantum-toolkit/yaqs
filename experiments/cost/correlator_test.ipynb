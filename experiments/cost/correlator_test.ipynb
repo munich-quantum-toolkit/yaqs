{
 "cells": [
  {
   "cell_type": "code",
   "execution_count": 1,
   "id": "72e0598d",
   "metadata": {},
   "outputs": [],
   "source": [
    "from mqt.yaqs.core.data_structures.networks import MPS, MPO\n",
    "from mqt.yaqs import simulator\n",
    "from mqt.yaqs.core.data_structures.simulation_parameters import AnalogSimParams, Observable\n",
    "from mqt.yaqs.core.libraries.gate_library import XX, Z, ZZ, RuntimeCost\n",
    "from mqt.yaqs.core.data_structures.noise_model import NoiseModel\n",
    "\n",
    "import matplotlib.pyplot as plt\n",
    "import numpy as np\n",
    "import pickle"
   ]
  },
  {
   "cell_type": "code",
   "execution_count": null,
   "id": "db617c9f",
   "metadata": {},
   "outputs": [],
   "source": [
    "def tdvp_simulator(H_0, noise_model, state=None):\n",
    "    L = H_0.length\n",
    "\n",
    "    if noise_model.processes[0][\"strength\"] == 1e-3:\n",
    "        num_traj = 1\n",
    "    elif noise_model.processes[0][\"strength\"] == 1e-2:\n",
    "        num_traj = 10\n",
    "    elif noise_model.processes[0][\"strength\"] in [1e-1, 1e2]:\n",
    "        num_traj = 10\n",
    "\n",
    "    max_bond_dim = 2**(L-1)\n",
    "    min_bond_dim = 2\n",
    "    threshold = 1e-12\n",
    "    sample_timesteps = True\n",
    "    order = 1\n",
    "\n",
    "    elapsed_time = 5\n",
    "    dt = 0.1\n",
    "\n",
    "    state = MPS(length=L, state=\"zeros\")\n",
    "\n",
    "    # measurements = [Observable(Z(), [site]) for site in range(L)] + [Observable(\"runtime_cost\")] + [Observable(\"max_bond\")] + [Observable(\"total_bond\")]\n",
    "    measurements = [Observable(\"entropy\", [site, site+1]) for site in range(L-1)] + [Observable(\"runtime_cost\")] + [Observable(\"max_bond\")] + [Observable(\"total_bond\")]\n",
    "    # measurements = [Observable(ZZ(), [site, site+1]) for site in range(L-1)]\n",
    "    sim_params = AnalogSimParams(measurements, elapsed_time, dt, num_traj, max_bond_dim, min_bond_dim, threshold, order, sample_timesteps=sample_timesteps)\n",
    "\n",
    "    simulator.run(state, H_0, sim_params, noise_model=noise_model)\n",
    "\n",
    "    return sim_params.observables"
   ]
  },
  {
   "cell_type": "code",
   "execution_count": 3,
   "id": "3809d24f",
   "metadata": {},
   "outputs": [
    {
     "name": "stdout",
     "output_type": "stream",
     "text": [
      "0 of 3\n"
     ]
    },
    {
     "name": "stderr",
     "output_type": "stream",
     "text": [
      "C:\\Users\\Aaron\\Documents\\GitHub\\mqt-yaqs\\src\\mqt\\yaqs\\core\\data_structures\\networks.py:313: RuntimeWarning: divide by zero encountered in log\n",
      "  entropy = -np.sum(s_vec**2 * np.log(s_vec**2))\n",
      "C:\\Users\\Aaron\\Documents\\GitHub\\mqt-yaqs\\src\\mqt\\yaqs\\core\\data_structures\\networks.py:313: RuntimeWarning: invalid value encountered in multiply\n",
      "  entropy = -np.sum(s_vec**2 * np.log(s_vec**2))\n"
     ]
    },
    {
     "name": "stdout",
     "output_type": "stream",
     "text": [
      "1 of 3\n",
      "2 of 3\n",
      "3 of 3\n"
     ]
    }
   ],
   "source": [
    "L = 16\n",
    "gammas = [1e-3, 1e-2, 1e-1, 1e2]\n",
    "for j, gamma in enumerate(gammas):\n",
    "    print(j, \"of\", len(gammas)-1)\n",
    "    J = 1\n",
    "    h = 1\n",
    "    H_0 = MPO()\n",
    "    H_0.init_ising(L, J, h)\n",
    "    # H_0.init_heisenberg(L, J, J, J, h)\n",
    "\n",
    "    results = []\n",
    "    # Define the noise model\n",
    "    single_site = [{\"name\": name, \"sites\": [i], \"strength\": gamma} for i in range(L) for name in [\"dephasing\", \"bitflip\", \"bitphaseflip\"]]\n",
    "    noise_model = NoiseModel(single_site)\n",
    "\n",
    "    cost = tdvp_simulator(H_0, noise_model)\n",
    "    results.append(cost)\n",
    "    filename = f\"correlator_{j}.pickle\"\n",
    "    with open(filename, 'wb') as handle:\n",
    "        pickle.dump(results, handle)"
   ]
  },
  {
   "cell_type": "code",
   "execution_count": null,
   "id": "583d34a7",
   "metadata": {},
   "outputs": [],
   "source": []
  },
  {
   "cell_type": "code",
   "execution_count": 4,
   "id": "dfd156be",
   "metadata": {},
   "outputs": [
    {
     "ename": "FileNotFoundError",
     "evalue": "[Errno 2] No such file or directory: 'results_14.pickle'",
     "output_type": "error",
     "traceback": [
      "\u001b[31m---------------------------------------------------------------------------\u001b[39m",
      "\u001b[31mFileNotFoundError\u001b[39m                         Traceback (most recent call last)",
      "\u001b[36mCell\u001b[39m\u001b[36m \u001b[39m\u001b[32mIn[4]\u001b[39m\u001b[32m, line 8\u001b[39m\n\u001b[32m      5\u001b[39m \u001b[38;5;28;01mfrom\u001b[39;00m\u001b[38;5;250m \u001b[39m\u001b[34;01mscipy\u001b[39;00m\u001b[34;01m.\u001b[39;00m\u001b[34;01minterpolate\u001b[39;00m\u001b[38;5;250m \u001b[39m\u001b[38;5;28;01mimport\u001b[39;00m make_interp_spline\n\u001b[32m      7\u001b[39m filename = \u001b[33m\"\u001b[39m\u001b[33mresults_14.pickle\u001b[39m\u001b[33m\"\u001b[39m\n\u001b[32m----> \u001b[39m\u001b[32m8\u001b[39m \u001b[38;5;28;01mwith\u001b[39;00m \u001b[38;5;28;43mopen\u001b[39;49m\u001b[43m(\u001b[49m\u001b[43mfilename\u001b[49m\u001b[43m,\u001b[49m\u001b[43m \u001b[49m\u001b[33;43m'\u001b[39;49m\u001b[33;43mrb\u001b[39;49m\u001b[33;43m'\u001b[39;49m\u001b[43m)\u001b[49m \u001b[38;5;28;01mas\u001b[39;00m f:\n\u001b[32m      9\u001b[39m     results = pickle.load(f)\n\u001b[32m     11\u001b[39m results = np.array(results).T\n",
      "\u001b[36mFile \u001b[39m\u001b[32mc:\\Users\\Aaron\\Documents\\GitHub\\mqt-yaqs\\env\\Lib\\site-packages\\IPython\\core\\interactiveshell.py:343\u001b[39m, in \u001b[36m_modified_open\u001b[39m\u001b[34m(file, *args, **kwargs)\u001b[39m\n\u001b[32m    336\u001b[39m \u001b[38;5;28;01mif\u001b[39;00m file \u001b[38;5;129;01min\u001b[39;00m {\u001b[32m0\u001b[39m, \u001b[32m1\u001b[39m, \u001b[32m2\u001b[39m}:\n\u001b[32m    337\u001b[39m     \u001b[38;5;28;01mraise\u001b[39;00m \u001b[38;5;167;01mValueError\u001b[39;00m(\n\u001b[32m    338\u001b[39m         \u001b[33mf\u001b[39m\u001b[33m\"\u001b[39m\u001b[33mIPython won\u001b[39m\u001b[33m'\u001b[39m\u001b[33mt let you open fd=\u001b[39m\u001b[38;5;132;01m{\u001b[39;00mfile\u001b[38;5;132;01m}\u001b[39;00m\u001b[33m by default \u001b[39m\u001b[33m\"\u001b[39m\n\u001b[32m    339\u001b[39m         \u001b[33m\"\u001b[39m\u001b[33mas it is likely to crash IPython. If you know what you are doing, \u001b[39m\u001b[33m\"\u001b[39m\n\u001b[32m    340\u001b[39m         \u001b[33m\"\u001b[39m\u001b[33myou can use builtins\u001b[39m\u001b[33m'\u001b[39m\u001b[33m open.\u001b[39m\u001b[33m\"\u001b[39m\n\u001b[32m    341\u001b[39m     )\n\u001b[32m--> \u001b[39m\u001b[32m343\u001b[39m \u001b[38;5;28;01mreturn\u001b[39;00m \u001b[43mio_open\u001b[49m\u001b[43m(\u001b[49m\u001b[43mfile\u001b[49m\u001b[43m,\u001b[49m\u001b[43m \u001b[49m\u001b[43m*\u001b[49m\u001b[43margs\u001b[49m\u001b[43m,\u001b[49m\u001b[43m \u001b[49m\u001b[43m*\u001b[49m\u001b[43m*\u001b[49m\u001b[43mkwargs\u001b[49m\u001b[43m)\u001b[49m\n",
      "\u001b[31mFileNotFoundError\u001b[39m: [Errno 2] No such file or directory: 'results_14.pickle'"
     ]
    }
   ],
   "source": [
    "import numpy as np\n",
    "import matplotlib.pyplot as plt\n",
    "import matplotlib.cm as cm\n",
    "import matplotlib.colors as mcolors\n",
    "from scipy.interpolate import make_interp_spline\n",
    "\n",
    "filename = \"results_14.pickle\"\n",
    "with open(filename, 'rb') as f:\n",
    "    results = pickle.load(f)\n",
    "\n",
    "results = np.array(results).T\n",
    "\n",
    "# ----- Configure global style -----\n",
    "plt.rcParams.update({\n",
    "    \"text.usetex\": True,\n",
    "    \"font.family\": \"serif\",\n",
    "    \"font.serif\": [\"Computer Modern Roman\"],\n",
    "    \"axes.labelsize\": 14,\n",
    "    \"font.size\": 13,\n",
    "    \"axes.titlesize\": 14,\n",
    "    \"xtick.labelsize\": 12,\n",
    "    \"ytick.labelsize\": 12,\n",
    "    \"xtick.direction\": \"out\",\n",
    "    \"ytick.direction\": \"out\",\n",
    "    \"axes.linewidth\": 1.0,\n",
    "    \"legend.fontsize\": 12,\n",
    "    \"figure.figsize\": (6, 4)\n",
    "})\n",
    "\n",
    "# ----- Input data -----\n",
    "results = np.array(results)\n",
    "num_curves = len(results)\n",
    "\n",
    "# Set up figure and axis\n",
    "fig, ax = plt.subplots()\n",
    "\n",
    "# Create colormap and normalize\n",
    "cmap = plt.get_cmap('magma_r')\n",
    "norm = mcolors.Normalize(vmin=0, vmax=num_curves - 1)\n",
    "colors = cmap(np.linspace(0, 1, num_curves))\n",
    "gammas = np.logspace(-3, 3, 30)\n",
    "# Smooth and plot each curve\n",
    "for j in range(num_curves):\n",
    "    x = np.array(gammas)\n",
    "    y = results[j]\n",
    "    \n",
    "    if len(x) >= 4:\n",
    "        x_smooth = np.logspace(np.log10(x[0]), np.log10(x[-1]), 300)\n",
    "        spline = make_interp_spline(np.log10(x), y, k=3)\n",
    "        y_smooth = spline(np.log10(x_smooth))\n",
    "        ax.plot(x_smooth, y_smooth, color=colors[j], lw=1.5)\n",
    "    else:\n",
    "        ax.plot(x, y, color=colors[j], lw=1.5)\n",
    "\n",
    "# Log scale and labels\n",
    "ax.set_xscale('log')\n",
    "# ax.set_yscale('log')\n",
    "ax.set_xlabel('$\\\\gamma$ (Depolarizing noise)', labelpad=5)\n",
    "ax.set_ylabel('Runtime cost', labelpad=5)\n",
    "\n",
    "# Clean up axes\n",
    "ax.spines['top'].set_visible(False)\n",
    "ax.spines['right'].set_visible(False)\n",
    "\n",
    "# Add colorbar\n",
    "sm = cm.ScalarMappable(cmap=cmap, norm=norm)\n",
    "sm.set_array([])\n",
    "cbar = fig.colorbar(sm, ax=ax, pad=0.02)\n",
    "cbar.set_label('Trotter steps', labelpad=5)\n",
    "cbar.ax.tick_params(direction='out', length=3)\n",
    "\n",
    "# Tight layout\n",
    "plt.tight_layout()\n",
    "plt.show()\n"
   ]
  },
  {
   "cell_type": "code",
   "execution_count": null,
   "id": "e5589757",
   "metadata": {},
   "outputs": [],
   "source": [
    "# t1_list = []\n",
    "# t2_list = []\n",
    "# t3_list = []\n",
    "# t4_list = []\n",
    "# t5_list = []\n",
    "# for j in range(len(results)):\n",
    "#     t1_list.append(results[j][9])\n",
    "#     t2_list.append(results[j][19])\n",
    "#     t3_list.append(results[j][29])\n",
    "#     t4_list.append(results[j][39])\n",
    "#     t5_list.append(results[j][49])\n",
    "\n",
    "# plt.plot(gammas, t1_list, label='T=1')\n",
    "# plt.plot(gammas, t2_list, label='T=2')\n",
    "# plt.plot(gammas, t3_list, label='T=3')\n",
    "# plt.plot(gammas, t4_list, label='T=4')\n",
    "# plt.plot(gammas, t5_list, label='T=5')\n",
    "# plt.legend()\n",
    "# plt.xscale('log')"
   ]
  },
  {
   "cell_type": "code",
   "execution_count": null,
   "id": "bb0cf44f",
   "metadata": {},
   "outputs": [],
   "source": [
    "filename = \"results_no_noise.pickle\"\n",
    "with open(filename, 'rb') as f:\n",
    "    results = pickle.load(f)"
   ]
  },
  {
   "cell_type": "code",
   "execution_count": null,
   "id": "26383e47",
   "metadata": {},
   "outputs": [],
   "source": [
    "heatmap = [observable.results for observable in results['exp_vals'][0::-2]]\n",
    "\n",
    "fig, ax = plt.subplots(1, 1)\n",
    "im = plt.imshow(heatmap, aspect=\"auto\", extent=(0, 9.9, L, 0))"
   ]
  },
  {
   "cell_type": "code",
   "execution_count": null,
   "id": "a1fb8d0f",
   "metadata": {},
   "outputs": [],
   "source": [
    "filename = \"results_gamma_0.pickle\"\n",
    "with open(filename, 'rb') as f:\n",
    "    results = pickle.load(f)\n",
    "plt.plot(results['exp_vals'][-1].results)\n",
    "\n",
    "filename = \"results_gamma_1.pickle\"\n",
    "with open(filename, 'rb') as f:\n",
    "    results = pickle.load(f)\n",
    "plt.plot(results['exp_vals'][-1].results)\n",
    "\n",
    "filename = \"results_gamma_2.pickle\"\n",
    "with open(filename, 'rb') as f:\n",
    "    results = pickle.load(f)\n",
    "plt.plot(results['exp_vals'][-1].results)"
   ]
  },
  {
   "cell_type": "code",
   "execution_count": null,
   "id": "20aaa9bd",
   "metadata": {},
   "outputs": [],
   "source": []
  },
  {
   "cell_type": "code",
   "execution_count": null,
   "id": "35b12481",
   "metadata": {},
   "outputs": [],
   "source": []
  }
 ],
 "metadata": {
  "kernelspec": {
   "display_name": "env",
   "language": "python",
   "name": "python3"
  },
  "language_info": {
   "codemirror_mode": {
    "name": "ipython",
    "version": 3
   },
   "file_extension": ".py",
   "mimetype": "text/x-python",
   "name": "python",
   "nbconvert_exporter": "python",
   "pygments_lexer": "ipython3",
   "version": "3.13.1"
  }
 },
 "nbformat": 4,
 "nbformat_minor": 5
}
