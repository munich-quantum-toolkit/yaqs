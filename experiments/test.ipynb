{
 "cells": [
  {
   "cell_type": "code",
   "execution_count": 1,
   "id": "e0b26daf",
   "metadata": {},
   "outputs": [],
   "source": [
    "from mqt.yaqs.core.data_structures.networks import MPO\n",
    "\n",
    "L = 16\n",
    "J = 1\n",
    "h = 1\n",
    "H_0 = MPO()\n",
    "# H_0.init_ising(L, J, h)\n",
    "H_0.init_heisenberg(L, J, J, J, h)"
   ]
  },
  {
   "cell_type": "code",
   "execution_count": 2,
   "id": "87f87fab",
   "metadata": {},
   "outputs": [],
   "source": [
    "from mqt.yaqs.core.data_structures.networks import MPS\n",
    "\n",
    "state = MPS(L, state=\"Neel\")"
   ]
  },
  {
   "cell_type": "code",
   "execution_count": null,
   "id": "4af97d89",
   "metadata": {},
   "outputs": [
    {
     "ename": "SyntaxError",
     "evalue": "unterminated string literal (detected at line 5) (69537499.py, line 5)",
     "output_type": "error",
     "traceback": [
      "  \u001b[36mCell\u001b[39m\u001b[36m \u001b[39m\u001b[32mIn[3]\u001b[39m\u001b[32m, line 5\u001b[39m\n\u001b[31m    \u001b[39m\u001b[31m{\"name\": name, \"sites\": [i], \"strength\": gamma} for i in range(L) for name in [\"pauli_z\", \"pauli_x\", \"pauli_y]\u001b[39m\n                                                                                                         ^\n\u001b[31mSyntaxError\u001b[39m\u001b[31m:\u001b[39m unterminated string literal (detected at line 5)\n"
     ]
    }
   ],
   "source": [
    "from mqt.yaqs.core.data_structures.noise_model import NoiseModel\n",
    "\n",
    "gamma = 1e-3\n",
    "noise_model = NoiseModel([\n",
    "      {\"name\": name, \"sites\": [i], \"strength\": gamma} for i in range(L) for name in [\"pauli_z\", \"pauli_x\", \"pauli_y\"]\n",
    "  ])"
   ]
  },
  {
   "cell_type": "code",
   "execution_count": null,
   "id": "6ff39659",
   "metadata": {},
   "outputs": [],
   "source": [
    "from mqt.yaqs.core.data_structures.simulation_parameters import Observable, AnalogSimParams\n",
    "\n",
    "from mqt.yaqs.core.libraries.gate_library import Z\n",
    "\n",
    "elapsed_time = 1.5\n",
    "dt = 0.1\n",
    "sample_timesteps = True\n",
    "num_traj = 10\n",
    "max_bond_dim = 2**L\n",
    "min_bond_dim = 2\n",
    "threshold = 1e-6\n",
    "order = 1\n",
    "measurements = [Observable(Z(), site) for site in range(L)]\n",
    "sim_params = AnalogSimParams(measurements, elapsed_time, dt, num_traj, max_bond_dim, min_bond_dim, threshold, order, sample_timesteps=sample_timesteps)"
   ]
  },
  {
   "cell_type": "code",
   "execution_count": null,
   "id": "e82be174",
   "metadata": {},
   "outputs": [
    {
     "name": "stdout",
     "output_type": "stream",
     "text": [
      "102\n",
      "102\n"
     ]
    }
   ],
   "source": [
    "from mqt.yaqs import simulator\n",
    "\n",
    "simulator.run(state, H_0, sim_params, noise_model, parallel=False)"
   ]
  },
  {
   "cell_type": "code",
   "execution_count": null,
   "id": "f7b3dd5a",
   "metadata": {},
   "outputs": [
    {
     "data": {
      "image/png": "[encoded data removed]",
      "text/plain": [
       "<Figure size 640x480 with 2 Axes>"
      ]
     },
     "metadata": {},
     "output_type": "display_data"
    }
   ],
   "source": [
    "import matplotlib.pyplot as plt\n",
    "\n",
    "heatmap = [observable.results for observable in sim_params.observables]\n",
    "\n",
    "fig, ax = plt.subplots(1, 1)\n",
    "im = plt.imshow(heatmap, aspect=\"auto\", extent=(0, elapsed_time, L, 0))\n",
    "plt.xlabel(\"Site\")\n",
    "plt.yticks([x - 0.5 for x in list(range(1, L + 1))], [str(x) for x in range(1, L + 1)])\n",
    "plt.ylabel(\"t\")\n",
    "\n",
    "fig.subplots_adjust(top=0.95, right=0.88)\n",
    "cbar_ax = fig.add_axes(rect=(0.9, 0.11, 0.025, 0.8))\n",
    "cbar = fig.colorbar(im, cax=cbar_ax)\n",
    "cbar.ax.set_title(\"$\\\\langle X \\\\rangle$\")\n",
    "\n",
    "plt.show()"
   ]
  },
  {
   "cell_type": "code",
   "execution_count": null,
   "id": "bf18a8d8",
   "metadata": {},
   "outputs": [],
   "source": []
  },
  {
   "cell_type": "code",
   "execution_count": null,
   "id": "f222eacf",
   "metadata": {},
   "outputs": [],
   "source": []
  }
 ],
 "metadata": {
  "kernelspec": {
   "display_name": "env",
   "language": "python",
   "name": "python3"
  },
  "language_info": {
   "codemirror_mode": {
    "name": "ipython",
    "version": 3
   },
   "file_extension": ".py",
   "mimetype": "text/x-python",
   "name": "python",
   "nbconvert_exporter": "python",
   "pygments_lexer": "ipython3",
   "version": "3.12.3"
  }
 },
 "nbformat": 4,
 "nbformat_minor": 5
}
